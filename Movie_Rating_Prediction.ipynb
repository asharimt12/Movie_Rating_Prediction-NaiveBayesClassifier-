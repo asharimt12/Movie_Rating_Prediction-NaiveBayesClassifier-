{
 "cells": [
  {
   "cell_type": "code",
   "execution_count": 1,
   "id": "a04947f6",
   "metadata": {},
   "outputs": [],
   "source": [
    "import numpy as np\n",
    "import pandas as pd"
   ]
  },
  {
   "cell_type": "code",
   "execution_count": 2,
   "id": "c317880a",
   "metadata": {},
   "outputs": [],
   "source": [
    "from nltk.tokenize import RegexpTokenizer\n",
    "from sklearn.preprocessing import LabelEncoder\n",
    "from nltk.corpus import stopwords\n",
    "from nltk.stem.porter import PorterStemmer\n"
   ]
  },
  {
   "cell_type": "code",
   "execution_count": 3,
   "id": "2674b92c",
   "metadata": {},
   "outputs": [],
   "source": [
    "encoder = LabelEncoder()\n",
    "tokenizer = RegexpTokenizer(r'\\w+')\n",
    "en_stopwords = set(stopwords.words('english'))\n",
    "ps = PorterStemmer()"
   ]
  },
  {
   "cell_type": "code",
   "execution_count": 4,
   "id": "52fd7d23",
   "metadata": {},
   "outputs": [],
   "source": [
    "df = pd.read_csv('Train.csv')\n",
    "data = df.values"
   ]
  },
  {
   "cell_type": "code",
   "execution_count": 5,
   "id": "bf0ae391",
   "metadata": {},
   "outputs": [
    {
     "data": {
      "text/plain": [
       "(40000, 2)"
      ]
     },
     "execution_count": 5,
     "metadata": {},
     "output_type": "execute_result"
    }
   ],
   "source": [
    "data.shape"
   ]
  },
  {
   "cell_type": "code",
   "execution_count": 6,
   "id": "8067670a",
   "metadata": {},
   "outputs": [],
   "source": [
    "X = data[:,0]\n",
    "y = data[:,1]"
   ]
  },
  {
   "cell_type": "code",
   "execution_count": 7,
   "id": "fbb6a5f0",
   "metadata": {},
   "outputs": [],
   "source": [
    "X_list = list(X)"
   ]
  },
  {
   "cell_type": "code",
   "execution_count": 8,
   "id": "62614b3e",
   "metadata": {},
   "outputs": [],
   "source": [
    "y = encoder.fit_transform(y)"
   ]
  },
  {
   "cell_type": "code",
   "execution_count": 9,
   "id": "84853fee",
   "metadata": {},
   "outputs": [
    {
     "data": {
      "text/plain": [
       "(40000,)"
      ]
     },
     "execution_count": 9,
     "metadata": {},
     "output_type": "execute_result"
    }
   ],
   "source": [
    "y.shape"
   ]
  },
  {
   "cell_type": "markdown",
   "id": "6bc34e74",
   "metadata": {},
   "source": [
    "## Data Preprocessing\n",
    " - Tokenization\n",
    " - Stopword Removal\n",
    " - Stemming\n",
    " - Vectorization"
   ]
  },
  {
   "cell_type": "code",
   "execution_count": 10,
   "id": "b05fdaa1",
   "metadata": {},
   "outputs": [],
   "source": [
    "\n",
    "def getCleanReview(X):\n",
    "    \n",
    "\n",
    "    clean_doc = []\n",
    "    #Tokenize\n",
    "    for i in range(len(X)):\n",
    "        tokens = tokenizer.tokenize(X[i])\n",
    "        new_tokens = [token for token in tokens if token not in en_stopwords]\n",
    "        stemmed_tokens = [ps.stem(token) for token in new_tokens]\n",
    "        clean_doc.append(' '.join(stemmed_tokens))\n",
    "\n",
    "    \n",
    "    return clean_doc"
   ]
  },
  {
   "cell_type": "code",
   "execution_count": 11,
   "id": "7010b2f1",
   "metadata": {},
   "outputs": [],
   "source": [
    "clean = getCleanReview(X_list)"
   ]
  },
  {
   "cell_type": "code",
   "execution_count": 12,
   "id": "59a8a9bb",
   "metadata": {},
   "outputs": [],
   "source": [
    "from sklearn.feature_extraction.text import CountVectorizer"
   ]
  },
  {
   "cell_type": "code",
   "execution_count": 13,
   "id": "2b35be1b",
   "metadata": {},
   "outputs": [
    {
     "data": {
      "text/plain": [
       "<40000x65804 sparse matrix of type '<class 'numpy.int64'>'\n",
       "\twith 3983866 stored elements in Compressed Sparse Row format>"
      ]
     },
     "execution_count": 13,
     "metadata": {},
     "output_type": "execute_result"
    }
   ],
   "source": [
    "cv = CountVectorizer()\n",
    "X_vect = cv.fit_transform(clean)\n",
    "X_vect"
   ]
  },
  {
   "cell_type": "code",
   "execution_count": 14,
   "id": "2bdbb488",
   "metadata": {},
   "outputs": [
    {
     "data": {
      "text/plain": [
       "(40000, 65804)"
      ]
     },
     "execution_count": 14,
     "metadata": {},
     "output_type": "execute_result"
    }
   ],
   "source": [
    "X_vect.shape"
   ]
  },
  {
   "cell_type": "markdown",
   "id": "96268c0b",
   "metadata": {},
   "source": [
    "### Test data"
   ]
  },
  {
   "cell_type": "code",
   "execution_count": 15,
   "id": "2324b98f",
   "metadata": {},
   "outputs": [],
   "source": [
    "test = pd.read_csv('Test.csv').values.reshape((-1,))\n",
    "test = list(test)"
   ]
  },
  {
   "cell_type": "code",
   "execution_count": 16,
   "id": "b714aaef",
   "metadata": {},
   "outputs": [],
   "source": [
    "clean_test = getCleanReview(test) \n",
    "test_vect = cv.transform(clean_test)"
   ]
  },
  {
   "cell_type": "markdown",
   "id": "51b75c96",
   "metadata": {},
   "source": [
    "### Model Training "
   ]
  },
  {
   "cell_type": "code",
   "execution_count": 17,
   "id": "6b6219e2",
   "metadata": {},
   "outputs": [],
   "source": [
    "from sklearn.naive_bayes import MultinomialNB,GaussianNB,BernoulliNB"
   ]
  },
  {
   "cell_type": "markdown",
   "id": "6cd08dea",
   "metadata": {},
   "source": [
    "### Multinomial Naive Bayes, Gaussian Navie Bayes"
   ]
  },
  {
   "cell_type": "code",
   "execution_count": 18,
   "id": "99a6b5bd",
   "metadata": {},
   "outputs": [],
   "source": [
    "mnb = MultinomialNB()\n",
    "gnb = GaussianNB()"
   ]
  },
  {
   "cell_type": "code",
   "execution_count": 19,
   "id": "056725f5",
   "metadata": {},
   "outputs": [
    {
     "data": {
      "text/plain": [
       "MultinomialNB()"
      ]
     },
     "execution_count": 19,
     "metadata": {},
     "output_type": "execute_result"
    }
   ],
   "source": [
    "mnb.fit(X_vect,y)"
   ]
  },
  {
   "cell_type": "code",
   "execution_count": 20,
   "id": "e1747727",
   "metadata": {},
   "outputs": [],
   "source": [
    "prediction = mnb.predict(test_vect)"
   ]
  },
  {
   "cell_type": "code",
   "execution_count": 21,
   "id": "342fbfbb",
   "metadata": {},
   "outputs": [],
   "source": [
    "pred_list = list(prediction)\n"
   ]
  },
  {
   "cell_type": "code",
   "execution_count": 22,
   "id": "3a9a8bbb",
   "metadata": {},
   "outputs": [],
   "source": [
    "pred_list2 = []\n",
    "for x in pred_list:\n",
    "    if x == 0:\n",
    "        pred_list2.append('neg')\n",
    "    else:\n",
    "        pred_list2.append('pos')"
   ]
  },
  {
   "cell_type": "code",
   "execution_count": 23,
   "id": "39ba1294",
   "metadata": {},
   "outputs": [
    {
     "data": {
      "text/plain": [
       "list"
      ]
     },
     "execution_count": 23,
     "metadata": {},
     "output_type": "execute_result"
    }
   ],
   "source": [
    "type(pred_list2)"
   ]
  },
  {
   "cell_type": "code",
   "execution_count": 24,
   "id": "d7da32a0",
   "metadata": {},
   "outputs": [],
   "source": [
    "df = pd.DataFrame(data=pred_list2,columns=['label'])\n",
    "df.to_csv('test_predication.csv',index_label='Id')"
   ]
  },
  {
   "cell_type": "markdown",
   "id": "250a7d6e",
   "metadata": {},
   "source": [
    "### Bernoulli Naive Bayes "
   ]
  },
  {
   "cell_type": "code",
   "execution_count": 25,
   "id": "95e5d05b",
   "metadata": {},
   "outputs": [],
   "source": [
    "bnb = BernoulliNB()"
   ]
  },
  {
   "cell_type": "code",
   "execution_count": 26,
   "id": "d864e28a",
   "metadata": {},
   "outputs": [
    {
     "data": {
      "text/plain": [
       "BernoulliNB()"
      ]
     },
     "execution_count": 26,
     "metadata": {},
     "output_type": "execute_result"
    }
   ],
   "source": [
    "bnb.fit(X_vect,y)"
   ]
  },
  {
   "cell_type": "code",
   "execution_count": 27,
   "id": "bc8d491a",
   "metadata": {},
   "outputs": [],
   "source": [
    "pred_bnb = bnb.predict(test_vect)"
   ]
  },
  {
   "cell_type": "code",
   "execution_count": 28,
   "id": "845496ed",
   "metadata": {},
   "outputs": [],
   "source": [
    "pred_bnb = list(pred_bnb)\n",
    "pred_bernoulli = []\n",
    "for x in pred_bnb:\n",
    "    if x == 0:\n",
    "        pred_bernoulli.append('neg')\n",
    "    else:\n",
    "        pred_bernoulli.append('pos')"
   ]
  },
  {
   "cell_type": "code",
   "execution_count": 29,
   "id": "688c94c3",
   "metadata": {},
   "outputs": [],
   "source": [
    "df = pd.DataFrame(data=pred_bernoulli,columns=['label'])\n",
    "df.to_csv('test_predication_bnb.csv',index_label='Id')"
   ]
  },
  {
   "cell_type": "code",
   "execution_count": null,
   "id": "ac072148",
   "metadata": {},
   "outputs": [],
   "source": []
  }
 ],
 "metadata": {
  "kernelspec": {
   "display_name": "Python 3",
   "language": "python",
   "name": "python3"
  },
  "language_info": {
   "codemirror_mode": {
    "name": "ipython",
    "version": 3
   },
   "file_extension": ".py",
   "mimetype": "text/x-python",
   "name": "python",
   "nbconvert_exporter": "python",
   "pygments_lexer": "ipython3",
   "version": "3.8.8"
  }
 },
 "nbformat": 4,
 "nbformat_minor": 5
}
